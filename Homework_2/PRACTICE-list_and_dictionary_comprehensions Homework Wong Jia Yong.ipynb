{
 "cells": [
  {
   "cell_type": "markdown",
   "id": "ed6dc721",
   "metadata": {},
   "source": [
    "<img src=\"http://imgur.com/1ZcRyrc.png\" style=\"float: left; margin: 20px; height: 55px\">\n",
    "\n",
    "## Practice : List and Dictionary Comprehensions\n",
    "\n",
    "---\n",
    "\n",
    "Practice essentials of performing list and dictionary comprehensions in Python."
   ]
  },
  {
   "cell_type": "code",
   "execution_count": 3,
   "id": "d5573344",
   "metadata": {},
   "outputs": [],
   "source": [
    "import numpy as np\n",
    "import string"
   ]
  },
  {
   "cell_type": "markdown",
   "id": "653884d1",
   "metadata": {},
   "source": [
    "\n",
    "### Section 1: List comprehensions\n",
    "\n",
    "##### 1) Add 1 to every element in the list."
   ]
  },
  {
   "cell_type": "code",
   "execution_count": 4,
   "id": "e360aa54",
   "metadata": {},
   "outputs": [
    {
     "data": {
      "text/plain": [
       "[1, 2, 3, 4, 5, 6, 7, 8, 9, 10]"
      ]
     },
     "execution_count": 4,
     "metadata": {},
     "output_type": "execute_result"
    }
   ],
   "source": [
    "numbers = [0,1,2,3,4,5,6,7,8,9]\n",
    "[number+1 for number in numbers]"
   ]
  },
  {
   "cell_type": "markdown",
   "id": "cecd2241",
   "metadata": {},
   "source": [
    "#####  2) Binarize\" n so that any value greater than or equal to the mean of n is 1, otherwise 0."
   ]
  },
  {
   "cell_type": "code",
   "execution_count": 6,
   "id": "0323a527",
   "metadata": {},
   "outputs": [
    {
     "name": "stdout",
     "output_type": "stream",
     "text": [
      "[0, 0, 0, 1, 0, 0, 1, 0, 1, 0, 1, 1, 0, 0, 0]\n"
     ]
    },
    {
     "data": {
      "text/plain": [
       "[0, 0, 0, 1, 0, 0, 1, 0, 1, 0, 1, 1, 0, 0, 0]"
      ]
     },
     "execution_count": 6,
     "metadata": {},
     "output_type": "execute_result"
    }
   ],
   "source": [
    "n = [1, 2, 7, 21, 3, 1, 62, 3, 34, 12, 73, 44, 12, 11, 9]\n",
    "#For list comprehension you start with the output, then the conditional then else then loop\n",
    "[1 if num >= sum(n)/len(n) else 0 for num in n]\n",
    "\n",
    "[1 if num >= np.mean(n) else 0 for num in n]"
   ]
  },
  {
   "cell_type": "markdown",
   "id": "eed09238",
   "metadata": {},
   "source": [
    "#####  3) Get the square and square root of all non-negative numbers in the list."
   ]
  },
  {
   "cell_type": "code",
   "execution_count": 7,
   "id": "c42a5562",
   "metadata": {},
   "outputs": [
    {
     "data": {
      "text/plain": [
       "[(0, 0.0), (1, 1.0), (2500, 7.0710678118654755), (5625, 8.660254037844387)]"
      ]
     },
     "execution_count": 7,
     "metadata": {},
     "output_type": "execute_result"
    }
   ],
   "source": [
    "import math\n",
    "n = [0, 1, 50, -23, -1, 75, -3]\n",
    "[(number**2, np.sqrt(number)) for number in n if number >= 0]"
   ]
  },
  {
   "cell_type": "markdown",
   "id": "88f3af3f",
   "metadata": {},
   "source": [
    "##### 4) Combine elements of these two lists item by item into list pairs:\n",
    "result should be: `[['a', 'z'], ['b', 'y'], ['c', 'x'], ['d', 'w']]`"
   ]
  },
  {
   "cell_type": "code",
   "execution_count": 26,
   "id": "5d6445cb",
   "metadata": {},
   "outputs": [
    {
     "data": {
      "text/plain": [
       "[['a', 'z'], ['b', 'y'], ['c', 'x'], ['d', 'w']]"
      ]
     },
     "execution_count": 26,
     "metadata": {},
     "output_type": "execute_result"
    }
   ],
   "source": [
    "a = ['a','b','c','d']\n",
    "z = ['z','y','x','w']\n",
    "#pairs = list(zip(a,z))\n",
    "#[[a_1, z_1] for (a_1, z_1) in zip(a,z)]\n",
    "[[a_1, z_1] for (a_1, z_1) in zip(a,z)]"
   ]
  },
  {
   "cell_type": "markdown",
   "id": "a8bb4a84",
   "metadata": {},
   "source": [
    "##### 5) Pair each index and element in this list into list pairs:\n",
    "result should be: `[[0, 'a'], [1, 'b'], [2, 'c'], [3, 'd']]`"
   ]
  },
  {
   "cell_type": "code",
   "execution_count": 9,
   "id": "c8dc3be9",
   "metadata": {},
   "outputs": [
    {
     "data": {
      "text/plain": [
       "[[0, 'a'], [1, 'b'], [2, 'c'], [3, 'd']]"
      ]
     },
     "execution_count": 9,
     "metadata": {},
     "output_type": "execute_result"
    }
   ],
   "source": [
    "a = ['a','b','c','d']\n",
    "#Enumerate starts from 0 automatically and comes after the thing you want to enumerate. It cannot work for lists\n",
    "[[index, element] for index,element in enumerate(a, 0)]\n",
    "#Another way to do it\n",
    "#[[index, element] for index,element in enumerate(a)]"
   ]
  },
  {
   "cell_type": "markdown",
   "id": "f3e5175b",
   "metadata": {},
   "source": [
    "### Section 2: Dictionary comprehensions\n",
    "\n",
    "##### 6) Make a dictionary in which keys are animals and values are lists, storing the [ASCII](http://www.asciitable.com/) number value of each character in the key, eg `'dog': [100, 111, 103]`\n",
    "\n",
    "Hint: Use the **`ord()`** function to convert characters into their ASCII values.\n"
   ]
  },
  {
   "cell_type": "code",
   "execution_count": 18,
   "id": "ab7ffa14",
   "metadata": {},
   "outputs": [
    {
     "name": "stdout",
     "output_type": "stream",
     "text": [
      "{'dog': [100, 111, 103], 'cat': [99, 97, 116], 'bird': [98, 105, 114, 100], 'horse': [104, 111, 114, 115, 101]}\n"
     ]
    }
   ],
   "source": [
    "keys = ['dog', 'cat', 'bird', 'horse']\n",
    "#{key: [ord(char) for char in key] for key in keys} equivalent to 2 for loops\n",
    "#sample = {}\n",
    "#for key in keys:\n",
    "#    char_values = []\n",
    "#    for char in key:\n",
    "#        char_values.append(ord(char))\n",
    "#    sample[key] = char_values\n",
    "#print(sample)\n",
    "{key: [ord(char) for char in key] for key in keys}"
   ]
  },
  {
   "cell_type": "markdown",
   "id": "ff3a447f",
   "metadata": {},
   "source": [
    "##### 7) Create a dictionary with these column names and the corresponding column values."
   ]
  },
  {
   "cell_type": "code",
   "execution_count": 20,
   "id": "6b3952a6",
   "metadata": {},
   "outputs": [
    {
     "name": "stdout",
     "output_type": "stream",
     "text": [
      "{'height': [62, 54, 60, 50], 'weight': [180, 120, 200, 100], 'is_male': [True, False, True, False]}\n"
     ]
    }
   ],
   "source": [
    "column_names = ['height','weight','is_male']\n",
    "values = [[62, 54, 60, 50], [180, 120, 200, 100], [True, False, True, False]]\n",
    "\"\"\"equivalent to this loop\n",
    "sample = {}\n",
    "for i in range(len(column_names)):\n",
    "    column = column_names[i]\n",
    "    value = values[i]\n",
    "    sample[column] = value\n",
    "print(sample)\n",
    "\"\"\"\n",
    "{column: value for column, value in zip(column_names, values)}"
   ]
  }
 ],
 "metadata": {
  "kernelspec": {
   "display_name": "Python 3 (ipykernel)",
   "language": "python",
   "name": "python3"
  },
  "language_info": {
   "codemirror_mode": {
    "name": "ipython",
    "version": 3
   },
   "file_extension": ".py",
   "mimetype": "text/x-python",
   "name": "python",
   "nbconvert_exporter": "python",
   "pygments_lexer": "ipython3",
   "version": "3.11.4"
  }
 },
 "nbformat": 4,
 "nbformat_minor": 5
}
